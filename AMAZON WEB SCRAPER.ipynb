{
 "cells": [
  {
   "cell_type": "code",
   "execution_count": 47,
   "id": "7d870a7b-4be0-455b-8971-7c36050d7b28",
   "metadata": {},
   "outputs": [],
   "source": [
    "#import Libraries\n",
    "from bs4 import BeautifulSoup\n",
    "import requests\n",
    "import time\n",
    "import datetime\n",
    "import smtplib"
   ]
  },
  {
   "cell_type": "code",
   "execution_count": 73,
   "id": "b846796b-2893-4281-b802-b8e94a2e0cb5",
   "metadata": {},
   "outputs": [
    {
     "name": "stdout",
     "output_type": "stream",
     "text": [
      "\n",
      "                    ABLING Trust A Data Scientist Tee � Men's Smart Casual Lounge Round Neck Black T-Shirt for Tech Enthusiasts, Super Combed Cotton 200gsm+ Fabric, Graphic Print Tshirts, Professional Humor\n",
      "                   \n",
      "\n",
      "                      499\n",
      "                     \n"
     ]
    }
   ],
   "source": [
    "#Connect to website\n",
    "URL='https://www.amazon.in/ABLING-Trust-Data-Scientist-Tee/dp/B0CWRYZBKR/ref=sr_1_1_sspa?crid=25FFZIDCRVI4W&dib=eyJ2IjoiMSJ9.tG3Yj82QNmWbkFIrLf9iJnjeeqj86v1RP-q7tNsCgi6zdtl2-kjA0kdk2GrM9fuswXK5YHFSwp37I0BJcI-cX_v3lCdY25AezEiPcLbV7lz-vT7DgHq4yWBhEKDPo4XchEoXGzVNGMx9ckF-Y4_PS9IVzenxJx5LfqgHt0WP_7kUPB35irtqHxhkmCw0TZYb5vjIYqN0MAo-JioGBSuUxg9CwOf623uKoDxq_MC6gfa52Mou7nyo7XMdDLd36WefsY6KqDWZmfxbT4t0Iv4Fq_I5x2IIwCofRCgR_tm0cHc.R70468yYcv0VnnxuO_nXj8xRcDHk-e2anfnHGmy6ej0&dib_tag=se&keywords=data%2Bscientist%2Btshirt&qid=1740980769&sprefix=data%2Btshirt%2Caps%2C493&sr=8-1-spons&sp_csd=d2lkZ2V0TmFtZT1zcF9hdGY&th=1&psc=1'\n",
    "headers = {\"User-Agent\":\"Mozilla/5.0 (Windows NT 10.0; Win64; x64) AppleWebKit/537.36 (KHTML, like Gecko) Chrome/133.0.0.0 Safari/537.36\",\"Accept-Encoding\":\"gzip, deflate\", \"Accept\":\"text/html,application/xhtml+xml,application/xml;q=0.9,*/*;q=0.8\", \"DNT\":\"1\",\"Connection\":\"close\", \"Upgrade-Insecure-Requests\":\"1\"}\n",
    "\n",
    "page = requests.get(URL, headers=headers)\n",
    "\n",
    "soup1 = BeautifulSoup(page.content, \"html.parser\")\n",
    "soup2 = BeautifulSoup(soup1.prettify(), \"html.parser\")\n",
    "\n",
    "title = soup2.find(id='productTitle').get_text()\n",
    "\n",
    "price = soup2.find(\"span\",class_ ='a-price-whole').get_text()\n",
    "\n",
    "\n",
    "print(title)\n",
    "print(price)\n"
   ]
  },
  {
   "cell_type": "code",
   "execution_count": 97,
   "id": "04514f1c-3c08-4ba6-a832-4cf7dcb298d0",
   "metadata": {},
   "outputs": [
    {
     "name": "stdout",
     "output_type": "stream",
     "text": [
      "ABLING Trust A Data Scientist Tee � Men's Smart Casual Lounge Round Neck Black T-Shirt for Tech Enthusiasts, Super Combed Cotton 200gsm+ Fabric, Graphic Print Tshirts, Professional Humor\n",
      "499\n"
     ]
    }
   ],
   "source": [
    "price = price.strip()\n",
    "title = title.strip()\n",
    "\n",
    "print(title)\n",
    "print(price)"
   ]
  },
  {
   "cell_type": "code",
   "execution_count": 95,
   "id": "705af658-3a61-426b-b339-ff3d06e1e30d",
   "metadata": {},
   "outputs": [
    {
     "name": "stdout",
     "output_type": "stream",
     "text": [
      "2025-03-03\n"
     ]
    }
   ],
   "source": [
    "# Create a Timestamp for your output to track when data was collected\n",
    "\n",
    "import datetime\n",
    "\n",
    "today = datetime.date.today()\n",
    "\n",
    "print(today)\n",
    "\n"
   ]
  },
  {
   "cell_type": "code",
   "execution_count": 99,
   "id": "db8990b2-828e-4511-bd15-68579a75d24e",
   "metadata": {},
   "outputs": [],
   "source": [
    "# Create CSV and write headers and data into the file\n",
    "\n",
    "import csv \n",
    "\n",
    "header = ['Title', 'Price', 'Date']\n",
    "data = [title, price, today]\n",
    "\n",
    "\n",
    "with open('AmazonWebScraperDataset.csv', 'w', newline='', encoding='UTF8') as f:\n",
    "    writer = csv.writer(f)\n",
    "    writer.writerow(header)\n",
    "    writer.writerow(data)\n",
    "    "
   ]
  },
  {
   "cell_type": "code",
   "execution_count": 103,
   "id": "6a7cf27c-e591-4ab3-8cf7-57a9ea4ead20",
   "metadata": {},
   "outputs": [
    {
     "name": "stdout",
     "output_type": "stream",
     "text": [
      "                                               Title  Price        Date\n",
      "0  ABLING Trust A Data Scientist Tee � Men's Smar...    499  2025-03-03\n"
     ]
    }
   ],
   "source": [
    "import pandas as pd\n",
    "\n",
    "df = pd.read_csv(r\"C:\\Users\\anbur\\AmazonWebScraperDataset.csv\")\n",
    "\n",
    "print(df)"
   ]
  },
  {
   "cell_type": "code",
   "execution_count": 105,
   "id": "5bb28071-b22e-4dcc-8eb6-7510a7fee293",
   "metadata": {},
   "outputs": [],
   "source": [
    "#Now we are appending data to the csv\n",
    "\n",
    "with open('AmazonWebScraperDataset.csv', 'a+', newline='', encoding='UTF8') as f:\n",
    "    writer = csv.writer(f)\n",
    "    writer.writerow(data)"
   ]
  },
  {
   "cell_type": "code",
   "execution_count": 120,
   "id": "d91a64fe-01d6-4708-bb1c-0eb586784957",
   "metadata": {},
   "outputs": [],
   "source": [
    "#Combine all of the above code into one function\n",
    "\n",
    "\n",
    "def check_price():\n",
    "    URL='https://www.amazon.in/ABLING-Trust-Data-Scientist-Tee/dp/B0CWRYZBKR/ref=sr_1_1_sspa?crid=25FFZIDCRVI4W&dib=eyJ2IjoiMSJ9.tG3Yj82QNmWbkFIrLf9iJnjeeqj86v1RP-q7tNsCgi6zdtl2-kjA0kdk2GrM9fuswXK5YHFSwp37I0BJcI-cX_v3lCdY25AezEiPcLbV7lz-vT7DgHq4yWBhEKDPo4XchEoXGzVNGMx9ckF-Y4_PS9IVzenxJx5LfqgHt0WP_7kUPB35irtqHxhkmCw0TZYb5vjIYqN0MAo-JioGBSuUxg9CwOf623uKoDxq_MC6gfa52Mou7nyo7XMdDLd36WefsY6KqDWZmfxbT4t0Iv4Fq_I5x2IIwCofRCgR_tm0cHc.R70468yYcv0VnnxuO_nXj8xRcDHk-e2anfnHGmy6ej0&dib_tag=se&keywords=data%2Bscientist%2Btshirt&qid=1740980769&sprefix=data%2Btshirt%2Caps%2C493&sr=8-1-spons&sp_csd=d2lkZ2V0TmFtZT1zcF9hdGY&th=1&psc=1'\n",
    "    headers = {\"User-Agent\":\"Mozilla/5.0 (Windows NT 10.0; Win64; x64) AppleWebKit/537.36 (KHTML, like Gecko) Chrome/133.0.0.0 Safari/537.36\",\"Accept-Encoding\":\"gzip, deflate\", \"Accept\":\"text/html,application/xhtml+xml,application/xml;q=0.9,*/*;q=0.8\", \"DNT\":\"1\",\"Connection\":\"close\", \"Upgrade-Insecure-Requests\":\"1\"}\n",
    "\n",
    "    page = requests.get(URL, headers=headers)\n",
    "\n",
    "    soup1 = BeautifulSoup(page.content, \"html.parser\")\n",
    "    soup2 = BeautifulSoup(soup1.prettify(), \"html.parser\")\n",
    "\n",
    "    title = soup2.find(id='productTitle').get_text()\n",
    "\n",
    "    price = soup2.find(\"span\",class_ ='a-price-whole').get_text()\n",
    "    price = price.strip()\n",
    "    title = title.strip()\n",
    "\n",
    "\n",
    "    import datetime\n",
    "\n",
    "    today = datetime.date.today()\n",
    "    \n",
    "    import csv \n",
    "\n",
    "    header = ['Title', 'Price', 'Date']\n",
    "    data = [title, price, today]\n",
    "\n",
    "    with open('AmazonWebScraperDataset.csv', 'a+', newline='', encoding='UTF8') as f:\n",
    "        writer = csv.writer(f)\n",
    "        writer.writerow(data)\n",
    "    \n",
    " "
   ]
  },
  {
   "cell_type": "code",
   "execution_count": null,
   "id": "8efef86e-dfeb-4f17-8d71-94d01e5b83e5",
   "metadata": {},
   "outputs": [],
   "source": [
    "# Runs check_price after a set time and inputs data into your CSV\n",
    "\n",
    "while(True):\n",
    "    check_price()\n",
    "    time.sleep(86400)"
   ]
  },
  {
   "cell_type": "code",
   "execution_count": 112,
   "id": "9d9e8e1e-3e3f-42f9-8605-f0a0152949cf",
   "metadata": {},
   "outputs": [
    {
     "name": "stdout",
     "output_type": "stream",
     "text": [
      "                                                Title  Price        Date\n",
      "0   ABLING Trust A Data Scientist Tee � Men's Smar...    499  2025-03-03\n",
      "1   ABLING Trust A Data Scientist Tee � Men's Smar...    499  2025-03-03\n",
      "2   ABLING Trust A Data Scientist Tee � Men's Smar...    499  2025-03-03\n",
      "3   ABLING Trust A Data Scientist Tee � Men's Smar...    499  2025-03-03\n",
      "4   ABLING Trust A Data Scientist Tee � Men's Smar...    499  2025-03-03\n",
      "5   ABLING Trust A Data Scientist Tee � Men's Smar...    499  2025-03-03\n",
      "6   ABLING Trust A Data Scientist Tee � Men's Smar...    499  2025-03-03\n",
      "7   ABLING Trust A Data Scientist Tee � Men's Smar...    499  2025-03-03\n",
      "8   ABLING Trust A Data Scientist Tee � Men's Smar...    499  2025-03-03\n",
      "9   ABLING Trust A Data Scientist Tee � Men's Smar...    499  2025-03-03\n",
      "10  ABLING Trust A Data Scientist Tee � Men's Smar...    499  2025-03-03\n",
      "11  ABLING Trust A Data Scientist Tee � Men's Smar...    499  2025-03-03\n",
      "12  ABLING Trust A Data Scientist Tee � Men's Smar...    499  2025-03-03\n",
      "13  ABLING Trust A Data Scientist Tee � Men's Smar...    499  2025-03-03\n",
      "14  ABLING Trust A Data Scientist Tee � Men's Smar...    499  2025-03-03\n",
      "15  ABLING Trust A Data Scientist Tee � Men's Smar...    499  2025-03-03\n",
      "16  ABLING Trust A Data Scientist Tee � Men's Smar...    499  2025-03-03\n",
      "17  ABLING Trust A Data Scientist Tee � Men's Smar...    499  2025-03-03\n"
     ]
    }
   ],
   "source": [
    "import pandas as pd\n",
    "\n",
    "df = pd.read_csv(r'C:\\Users\\anbur\\AmazonWebScraperDataset.csv')\n",
    "\n",
    "print(df)"
   ]
  },
  {
   "cell_type": "code",
   "execution_count": null,
   "id": "43ab10c8-352b-4350-b814-e5d138ee77b4",
   "metadata": {},
   "outputs": [],
   "source": [
    "# If uou want to try sending yourself an email (just for fun) when a price hits below a certain level you can try it\n",
    "# out with this script\n",
    "\n",
    "def send_mail():\n",
    "    server = smtplib.SMTP_SSL('smtp.gmail.com',465)\n",
    "    server.ehlo()\n",
    "    #server.starttls()\n",
    "    server.ehlo()\n",
    "    server.login('brindhashree05@gmail.com','xxxxxxxxxxxxxx')\n",
    "    \n",
    "    subject = \"The Shirt you want is below $15! Now is your chance to buy!\"\n",
    "    body = \"Brindha, This is the moment we have been waiting for. Now is your chance to pick up the shirt of your dreams. Don't mess it up! Link here: https://www.amazon.com/Funny-Data-Systems-Business-Analyst/dp/B07FNW9FGJ/ref=sr_1_3?dchild=1&keywords=data+analyst+tshirt&qid=1626655184&sr=8-3\"\n",
    "   \n",
    "    msg = f\"Subject: {subject}\\n\\n{body}\"\n",
    "    \n",
    "    server.sendmail(\n",
    "        'brindhashree05@gmail.com',\n",
    "        msg\n",
    "     \n",
    "    )"
   ]
  },
  {
   "cell_type": "code",
   "execution_count": null,
   "id": "355f5d8c-ef10-4551-8997-b218a3f7d199",
   "metadata": {},
   "outputs": [],
   "source": []
  }
 ],
 "metadata": {
  "kernelspec": {
   "display_name": "Python 3 (ipykernel)",
   "language": "python",
   "name": "python3"
  },
  "language_info": {
   "codemirror_mode": {
    "name": "ipython",
    "version": 3
   },
   "file_extension": ".py",
   "mimetype": "text/x-python",
   "name": "python",
   "nbconvert_exporter": "python",
   "pygments_lexer": "ipython3",
   "version": "3.12.4"
  }
 },
 "nbformat": 4,
 "nbformat_minor": 5
}
